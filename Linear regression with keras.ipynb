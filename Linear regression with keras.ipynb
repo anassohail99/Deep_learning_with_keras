{
 "cells": [
  {
   "cell_type": "code",
   "execution_count": 3,
   "metadata": {},
   "outputs": [],
   "source": [
    "from keras.models import Sequential\n",
    "from keras.layers import Dense\n",
    "from keras.optimizers import Adam, SGD\n",
    "\n",
    "import matplotlib.pyplot as plt\n",
    "import pandas as pd\n",
    "import numpy as np "
   ]
  },
  {
   "cell_type": "code",
   "execution_count": 4,
   "metadata": {},
   "outputs": [],
   "source": [
    "df = pd.read_csv('Weight-height.csv')"
   ]
  },
  {
   "cell_type": "code",
   "execution_count": 5,
   "metadata": {},
   "outputs": [],
   "source": [
    "x = df[['Height']].values\n",
    "y_true = df[['Weight']].values"
   ]
  },
  {
   "cell_type": "code",
   "execution_count": 6,
   "metadata": {},
   "outputs": [
    {
     "data": {
      "text/plain": [
       "array([[73.84701702],\n",
       "       [68.78190405],\n",
       "       [74.11010539],\n",
       "       ...,\n",
       "       [63.86799221],\n",
       "       [69.03424313],\n",
       "       [61.94424588]])"
      ]
     },
     "execution_count": 6,
     "metadata": {},
     "output_type": "execute_result"
    }
   ],
   "source": [
    "x"
   ]
  },
  {
   "cell_type": "code",
   "execution_count": 7,
   "metadata": {},
   "outputs": [],
   "source": [
    "model = Sequential()\n",
    "model.add(Dense(1,input_shape=(1,)))"
   ]
  },
  {
   "cell_type": "code",
   "execution_count": 9,
   "metadata": {},
   "outputs": [
    {
     "name": "stdout",
     "output_type": "stream",
     "text": [
      "Model: \"sequential_1\"\n",
      "_________________________________________________________________\n",
      "Layer (type)                 Output Shape              Param #   \n",
      "=================================================================\n",
      "dense_1 (Dense)              (None, 1)                 2         \n",
      "=================================================================\n",
      "Total params: 2\n",
      "Trainable params: 2\n",
      "Non-trainable params: 0\n",
      "_________________________________________________________________\n"
     ]
    }
   ],
   "source": [
    "model.summary()"
   ]
  },
  {
   "cell_type": "code",
   "execution_count": 15,
   "metadata": {},
   "outputs": [],
   "source": [
    "model.compile(Adam(lr=0.8), 'mean_squared_error')"
   ]
  },
  {
   "cell_type": "code",
   "execution_count": 16,
   "metadata": {},
   "outputs": [
    {
     "name": "stdout",
     "output_type": "stream",
     "text": [
      "Epoch 1/40\n",
      "10000/10000 [==============================] - 2s 201us/step - loss: 849.2572\n",
      "Epoch 2/40\n",
      "10000/10000 [==============================] - 0s 43us/step - loss: 546.1700\n",
      "Epoch 3/40\n",
      "10000/10000 [==============================] - 0s 43us/step - loss: 502.1778\n",
      "Epoch 4/40\n",
      "10000/10000 [==============================] - 0s 42us/step - loss: 472.0799\n",
      "Epoch 5/40\n",
      "10000/10000 [==============================] - 0s 41us/step - loss: 405.5658\n",
      "Epoch 6/40\n",
      "10000/10000 [==============================] - 0s 45us/step - loss: 369.5986\n",
      "Epoch 7/40\n",
      "10000/10000 [==============================] - 0s 39us/step - loss: 350.8744\n",
      "Epoch 8/40\n",
      "10000/10000 [==============================] - 0s 40us/step - loss: 299.7613\n",
      "Epoch 9/40\n",
      "10000/10000 [==============================] - 0s 44us/step - loss: 277.8405\n",
      "Epoch 10/40\n",
      "10000/10000 [==============================] - 0s 40us/step - loss: 275.8101\n",
      "Epoch 11/40\n",
      "10000/10000 [==============================] - 0s 40us/step - loss: 240.4736\n",
      "Epoch 12/40\n",
      "10000/10000 [==============================] - 0s 39us/step - loss: 219.7621\n",
      "Epoch 13/40\n",
      "10000/10000 [==============================] - 0s 39us/step - loss: 229.1399\n",
      "Epoch 14/40\n",
      "10000/10000 [==============================] - 0s 40us/step - loss: 200.9725\n",
      "Epoch 15/40\n",
      "10000/10000 [==============================] - 0s 47us/step - loss: 196.8075\n",
      "Epoch 16/40\n",
      "10000/10000 [==============================] - 0s 49us/step - loss: 196.0554\n",
      "Epoch 17/40\n",
      "10000/10000 [==============================] - 0s 49us/step - loss: 190.9076\n",
      "Epoch 18/40\n",
      "10000/10000 [==============================] - 0s 39us/step - loss: 177.4719\n",
      "Epoch 19/40\n",
      "10000/10000 [==============================] - 0s 40us/step - loss: 180.6559\n",
      "Epoch 20/40\n",
      "10000/10000 [==============================] - 0s 39us/step - loss: 184.4823\n",
      "Epoch 21/40\n",
      "10000/10000 [==============================] - 0s 45us/step - loss: 183.6725\n",
      "Epoch 22/40\n",
      "10000/10000 [==============================] - 0s 39us/step - loss: 184.0555\n",
      "Epoch 23/40\n",
      "10000/10000 [==============================] - 0s 39us/step - loss: 170.3191\n",
      "Epoch 24/40\n",
      "10000/10000 [==============================] - 0s 41us/step - loss: 175.7230\n",
      "Epoch 25/40\n",
      "10000/10000 [==============================] - 0s 40us/step - loss: 177.5617\n",
      "Epoch 26/40\n",
      "10000/10000 [==============================] - 0s 39us/step - loss: 176.4983\n",
      "Epoch 27/40\n",
      "10000/10000 [==============================] - 0s 43us/step - loss: 179.4235\n",
      "Epoch 28/40\n",
      "10000/10000 [==============================] - 0s 43us/step - loss: 181.1401\n",
      "Epoch 29/40\n",
      "10000/10000 [==============================] - 0s 44us/step - loss: 175.8215: 0s - loss: 1\n",
      "Epoch 30/40\n",
      "10000/10000 [==============================] - 0s 39us/step - loss: 200.0951\n",
      "Epoch 31/40\n",
      "10000/10000 [==============================] - 0s 39us/step - loss: 176.6442\n",
      "Epoch 32/40\n",
      "10000/10000 [==============================] - 0s 40us/step - loss: 183.8254\n",
      "Epoch 33/40\n",
      "10000/10000 [==============================] - 0s 40us/step - loss: 188.3110\n",
      "Epoch 34/40\n",
      "10000/10000 [==============================] - 0s 39us/step - loss: 173.9010\n",
      "Epoch 35/40\n",
      "10000/10000 [==============================] - 0s 42us/step - loss: 177.7318\n",
      "Epoch 36/40\n",
      "10000/10000 [==============================] - 0s 38us/step - loss: 179.9428\n",
      "Epoch 37/40\n",
      "10000/10000 [==============================] - 0s 43us/step - loss: 168.5413\n",
      "Epoch 38/40\n",
      "10000/10000 [==============================] - 0s 45us/step - loss: 172.9133\n",
      "Epoch 39/40\n",
      "10000/10000 [==============================] - 0s 40us/step - loss: 175.4470\n",
      "Epoch 40/40\n",
      "10000/10000 [==============================] - 0s 40us/step - loss: 178.2414\n"
     ]
    },
    {
     "data": {
      "text/plain": [
       "<keras.callbacks.callbacks.History at 0x143df90d668>"
      ]
     },
     "execution_count": 16,
     "metadata": {},
     "output_type": "execute_result"
    }
   ],
   "source": [
    "model.fit(x,y_true , epochs=40 , verbose = 1)"
   ]
  },
  {
   "cell_type": "code",
   "execution_count": 17,
   "metadata": {},
   "outputs": [],
   "source": [
    "y_pred = model.predict(x)"
   ]
  },
  {
   "cell_type": "code",
   "execution_count": 20,
   "metadata": {},
   "outputs": [
    {
     "data": {
      "text/plain": [
       "[<matplotlib.lines.Line2D at 0x143de1dc9b0>]"
      ]
     },
     "execution_count": 20,
     "metadata": {},
     "output_type": "execute_result"
    },
    {
     "data": {
      "image/png": "[encoded data removed]",
      "text/plain": [
       "<Figure size 432x288 with 1 Axes>"
      ]
     },
     "metadata": {
      "needs_background": "light"
     },
     "output_type": "display_data"
    }
   ],
   "source": [
    "df.plot(kind = 'scatter',x = 'Height' , y = 'Weight',title = 'Weight-Height Plotting')\n",
    "plt.plot(x,y_pred,color = 'yellow' ,linewidth = 5)"
   ]
  },
  {
   "cell_type": "code",
   "execution_count": 21,
   "metadata": {},
   "outputs": [],
   "source": [
    "w,b = model.get_weights()"
   ]
  },
  {
   "cell_type": "code",
   "execution_count": 22,
   "metadata": {},
   "outputs": [
    {
     "data": {
      "text/plain": [
       "array([[7.8209295]], dtype=float32)"
      ]
     },
     "execution_count": 22,
     "metadata": {},
     "output_type": "execute_result"
    }
   ],
   "source": [
    "w"
   ]
  },
  {
   "cell_type": "code",
   "execution_count": 23,
   "metadata": {},
   "outputs": [
    {
     "data": {
      "text/plain": [
       "array([-348.57477], dtype=float32)"
      ]
     },
     "execution_count": 23,
     "metadata": {},
     "output_type": "execute_result"
    }
   ],
   "source": [
    "b"
   ]
  },
  {
   "cell_type": "code",
   "execution_count": null,
   "metadata": {},
   "outputs": [],
   "source": []
  }
 ],
 "metadata": {
  "kernelspec": {
   "display_name": "Python 3",
   "language": "python",
   "name": "python3"
  },
  "language_info": {
   "codemirror_mode": {
    "name": "ipython",
    "version": 3
   },
   "file_extension": ".py",
   "mimetype": "text/x-python",
   "name": "python",
   "nbconvert_exporter": "python",
   "pygments_lexer": "ipython3",
   "version": "3.7.3"
  }
 },
 "nbformat": 4,
 "nbformat_minor": 2
}
