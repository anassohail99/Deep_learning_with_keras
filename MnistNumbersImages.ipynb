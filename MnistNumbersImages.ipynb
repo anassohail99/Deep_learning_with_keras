{
  "nbformat": 4,
  "nbformat_minor": 0,
  "metadata": {
    "kernelspec": {
      "display_name": "Python 3",
      "language": "python",
      "name": "python3"
    },
    "language_info": {
      "codemirror_mode": {
        "name": "ipython",
        "version": 3
      },
      "file_extension": ".py",
      "mimetype": "text/x-python",
      "name": "python",
      "nbconvert_exporter": "python",
      "pygments_lexer": "ipython3",
      "version": "3.7.3"
    },
    "colab": {
      "name": "MnistNumbersImages.ipynb",
      "provenance": []
    }
  },
  "cells": [
    {
      "cell_type": "code",
      "metadata": {
        "id": "mPGhoiUc5b71",
        "colab_type": "code",
        "colab": {}
      },
      "source": [
        "import numpy as np\n",
        "from tensorflow.keras.utils import to_categorical\n",
        "from tensorflow.keras import models\n",
        "from tensorflow.keras import layers\n",
        "from tensorflow.keras.datasets import mnist\n"
      ],
      "execution_count": 0,
      "outputs": []
    },
    {
      "cell_type": "code",
      "metadata": {
        "id": "9KoU3J1Y5uTc",
        "colab_type": "code",
        "colab": {}
      },
      "source": [
        "#!pip install tensorflow --upgrade"
      ],
      "execution_count": 0,
      "outputs": []
    },
    {
      "cell_type": "code",
      "metadata": {
        "id": "eCPcHdY45b8C",
        "colab_type": "code",
        "colab": {}
      },
      "source": [
        "(train_image,train_label),(test_images , test_labels) = mnist.load_data()"
      ],
      "execution_count": 0,
      "outputs": []
    },
    {
      "cell_type": "code",
      "metadata": {
        "id": "TqVSFtyL5b8L",
        "colab_type": "code",
        "colab": {
          "base_uri": "https://localhost:8080/",
          "height": 34
        },
        "outputId": "cb5a6da6-3274-4e41-eb4d-79a3b460befe"
      },
      "source": [
        "train_image.shape"
      ],
      "execution_count": 10,
      "outputs": [
        {
          "output_type": "execute_result",
          "data": {
            "text/plain": [
              "(60000, 28, 28)"
            ]
          },
          "metadata": {
            "tags": []
          },
          "execution_count": 10
        }
      ]
    },
    {
      "cell_type": "code",
      "metadata": {
        "id": "pt178Wiw5b8T",
        "colab_type": "code",
        "colab": {
          "base_uri": "https://localhost:8080/",
          "height": 34
        },
        "outputId": "33986e5c-11d2-44bd-ab0b-744482d3e0cf"
      },
      "source": [
        "test_images.shape"
      ],
      "execution_count": 11,
      "outputs": [
        {
          "output_type": "execute_result",
          "data": {
            "text/plain": [
              "(10000, 28, 28)"
            ]
          },
          "metadata": {
            "tags": []
          },
          "execution_count": 11
        }
      ]
    },
    {
      "cell_type": "code",
      "metadata": {
        "id": "o_CFWWfb5b8a",
        "colab_type": "code",
        "colab": {
          "base_uri": "https://localhost:8080/",
          "height": 34
        },
        "outputId": "4f216192-8734-4e5b-f178-401ad18b0177"
      },
      "source": [
        "len(test_labels)"
      ],
      "execution_count": 12,
      "outputs": [
        {
          "output_type": "execute_result",
          "data": {
            "text/plain": [
              "10000"
            ]
          },
          "metadata": {
            "tags": []
          },
          "execution_count": 12
        }
      ]
    },
    {
      "cell_type": "code",
      "metadata": {
        "id": "85JSUJE-5b8i",
        "colab_type": "code",
        "colab": {
          "base_uri": "https://localhost:8080/",
          "height": 34
        },
        "outputId": "e3f9947c-83cd-49dd-96c6-0e1f2f99ec2f"
      },
      "source": [
        "test_labels"
      ],
      "execution_count": 13,
      "outputs": [
        {
          "output_type": "execute_result",
          "data": {
            "text/plain": [
              "array([7, 2, 1, ..., 4, 5, 6], dtype=uint8)"
            ]
          },
          "metadata": {
            "tags": []
          },
          "execution_count": 13
        }
      ]
    },
    {
      "cell_type": "code",
      "metadata": {
        "id": "xG7Ld9mZ5b8r",
        "colab_type": "code",
        "colab": {}
      },
      "source": [
        "network = models.Sequential()"
      ],
      "execution_count": 0,
      "outputs": []
    },
    {
      "cell_type": "code",
      "metadata": {
        "id": "wSmCtS3S5b8y",
        "colab_type": "code",
        "colab": {}
      },
      "source": [
        "network.add(layers.Dense(512, activation = 'relu' , input_shape=(28 * 28,)))\n",
        "network.add(layers.Dense(10,activation = 'softmax'))"
      ],
      "execution_count": 0,
      "outputs": []
    },
    {
      "cell_type": "code",
      "metadata": {
        "id": "47jzBCuS5b88",
        "colab_type": "code",
        "colab": {}
      },
      "source": [
        "network.compile(optimizer='rmsprop',\n",
        "               loss = 'categorical_crossentropy',\n",
        "               metrics = ['accuracy'])"
      ],
      "execution_count": 0,
      "outputs": []
    },
    {
      "cell_type": "code",
      "metadata": {
        "id": "9zZSgPVL5b9D",
        "colab_type": "code",
        "colab": {}
      },
      "source": [
        "train_image = train_image.reshape((60000,28*28))\n",
        "train_image = train_image.astype('float32') / 255\n",
        "test_images = test_images.reshape((10000,28*28))\n",
        "test_images = test_images.astype('float32') / 255"
      ],
      "execution_count": 0,
      "outputs": []
    },
    {
      "cell_type": "code",
      "metadata": {
        "id": "fHgcgviM5b9N",
        "colab_type": "code",
        "colab": {}
      },
      "source": [
        "train_label = to_categorical(train_label)\n",
        "test_label = to_categorical(test_labels)"
      ],
      "execution_count": 0,
      "outputs": []
    },
    {
      "cell_type": "code",
      "metadata": {
        "id": "GmlbQVRR5b9T",
        "colab_type": "code",
        "colab": {
          "base_uri": "https://localhost:8080/",
          "height": 901
        },
        "outputId": "2f4717f4-acc7-4294-c29e-9cc3bf39d613"
      },
      "source": [
        "network.fit(train_image,train_label,epochs = 25,batch_size=128)"
      ],
      "execution_count": 19,
      "outputs": [
        {
          "output_type": "stream",
          "text": [
            "Train on 60000 samples\n",
            "Epoch 1/25\n",
            "60000/60000 [==============================] - 5s 79us/sample - loss: 0.2514 - accuracy: 0.9287\n",
            "Epoch 2/25\n",
            "60000/60000 [==============================] - 4s 74us/sample - loss: 0.1024 - accuracy: 0.9702\n",
            "Epoch 3/25\n",
            "60000/60000 [==============================] - 4s 74us/sample - loss: 0.0669 - accuracy: 0.9800\n",
            "Epoch 4/25\n",
            "60000/60000 [==============================] - 5s 76us/sample - loss: 0.0500 - accuracy: 0.9852\n",
            "Epoch 5/25\n",
            "60000/60000 [==============================] - 5s 75us/sample - loss: 0.0375 - accuracy: 0.9887\n",
            "Epoch 6/25\n",
            "60000/60000 [==============================] - 4s 74us/sample - loss: 0.0284 - accuracy: 0.9916\n",
            "Epoch 7/25\n",
            "60000/60000 [==============================] - 4s 74us/sample - loss: 0.0224 - accuracy: 0.9931\n",
            "Epoch 8/25\n",
            "60000/60000 [==============================] - 4s 73us/sample - loss: 0.0169 - accuracy: 0.9953\n",
            "Epoch 9/25\n",
            "60000/60000 [==============================] - 4s 73us/sample - loss: 0.0133 - accuracy: 0.9962\n",
            "Epoch 10/25\n",
            "60000/60000 [==============================] - 4s 75us/sample - loss: 0.0098 - accuracy: 0.9972\n",
            "Epoch 11/25\n",
            "60000/60000 [==============================] - 5s 78us/sample - loss: 0.0080 - accuracy: 0.9977\n",
            "Epoch 12/25\n",
            "60000/60000 [==============================] - 5s 77us/sample - loss: 0.0058 - accuracy: 0.9986\n",
            "Epoch 13/25\n",
            "60000/60000 [==============================] - 4s 75us/sample - loss: 0.0048 - accuracy: 0.9988\n",
            "Epoch 14/25\n",
            "60000/60000 [==============================] - 4s 74us/sample - loss: 0.0037 - accuracy: 0.9990\n",
            "Epoch 15/25\n",
            "60000/60000 [==============================] - 4s 74us/sample - loss: 0.0030 - accuracy: 0.9992\n",
            "Epoch 16/25\n",
            "60000/60000 [==============================] - 5s 78us/sample - loss: 0.0020 - accuracy: 0.9995\n",
            "Epoch 17/25\n",
            "60000/60000 [==============================] - 5s 75us/sample - loss: 0.0018 - accuracy: 0.9995\n",
            "Epoch 18/25\n",
            "60000/60000 [==============================] - 4s 74us/sample - loss: 0.0016 - accuracy: 0.9995\n",
            "Epoch 19/25\n",
            "60000/60000 [==============================] - 4s 73us/sample - loss: 0.0012 - accuracy: 0.9997\n",
            "Epoch 20/25\n",
            "60000/60000 [==============================] - 4s 75us/sample - loss: 9.3784e-04 - accuracy: 0.9998\n",
            "Epoch 21/25\n",
            "60000/60000 [==============================] - 4s 74us/sample - loss: 6.1925e-04 - accuracy: 0.9998\n",
            "Epoch 22/25\n",
            "60000/60000 [==============================] - 4s 74us/sample - loss: 6.4387e-04 - accuracy: 0.9998\n",
            "Epoch 23/25\n",
            "60000/60000 [==============================] - 4s 74us/sample - loss: 4.6935e-04 - accuracy: 0.9999\n",
            "Epoch 24/25\n",
            "60000/60000 [==============================] - 4s 74us/sample - loss: 3.1068e-04 - accuracy: 0.9999\n",
            "Epoch 25/25\n",
            "60000/60000 [==============================] - 4s 74us/sample - loss: 4.7986e-04 - accuracy: 0.9999\n"
          ],
          "name": "stdout"
        },
        {
          "output_type": "execute_result",
          "data": {
            "text/plain": [
              "<tensorflow.python.keras.callbacks.History at 0x7fe6166f67b8>"
            ]
          },
          "metadata": {
            "tags": []
          },
          "execution_count": 19
        }
      ]
    },
    {
      "cell_type": "code",
      "metadata": {
        "id": "gixgVliY5b9Z",
        "colab_type": "code",
        "colab": {
          "base_uri": "https://localhost:8080/",
          "height": 51
        },
        "outputId": "12ce6a14-a536-4909-87bf-88696187a888"
      },
      "source": [
        "test_loss , test_acc = network.evaluate(test_images,test_label)\n",
        "print('test-acc :', test_acc)"
      ],
      "execution_count": 20,
      "outputs": [
        {
          "output_type": "stream",
          "text": [
            "10000/10000 [==============================] - 1s 75us/sample - loss: 0.1176 - accuracy: 0.9807\n",
            "test-acc : 0.9807\n"
          ],
          "name": "stdout"
        }
      ]
    },
    {
      "cell_type": "code",
      "metadata": {
        "id": "-gexrihJ5b9f",
        "colab_type": "code",
        "colab": {}
      },
      "source": [
        ""
      ],
      "execution_count": 0,
      "outputs": []
    }
  ]
}