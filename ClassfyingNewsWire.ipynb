{
  "nbformat": 4,
  "nbformat_minor": 0,
  "metadata": {
    "colab": {
      "name": "ClassfyingNewsWire(reuter).ipynb",
      "provenance": [],
      "collapsed_sections": []
    },
    "kernelspec": {
      "name": "python3",
      "display_name": "Python 3"
    }
  },
  "cells": [
    {
      "cell_type": "code",
      "metadata": {
        "id": "1_3Ntob6kQCq",
        "colab_type": "code",
        "colab": {
          "base_uri": "https://localhost:8080/",
          "height": 34
        },
        "outputId": "dddb208f-0e4f-419c-818b-5cf17da9941e"
      },
      "source": [
        "import keras\n",
        "keras.__version__"
      ],
      "execution_count": 2,
      "outputs": [
        {
          "output_type": "execute_result",
          "data": {
            "text/plain": [
              "'2.2.5'"
            ]
          },
          "metadata": {
            "tags": []
          },
          "execution_count": 2
        }
      ]
    },
    {
      "cell_type": "code",
      "metadata": {
        "id": "PJorpWDEkh_A",
        "colab_type": "code",
        "colab": {}
      },
      "source": [
        "from keras.datasets import reuters\n",
        "import numpy as np\n",
        "from keras.utils.np_utils import to_categorical\n",
        "from keras import models , layers , optimizers\n",
        "import matplotlib.pyplot as plt"
      ],
      "execution_count": 0,
      "outputs": []
    },
    {
      "cell_type": "code",
      "metadata": {
        "id": "IM-9sj35kvGz",
        "colab_type": "code",
        "colab": {
          "base_uri": "https://localhost:8080/",
          "height": 51
        },
        "outputId": "90e85dae-db04-4697-824c-b315e2297346"
      },
      "source": [
        "(test_data , test_labels) , (train_data , train_labels) = reuters.load_data(num_words=10000)"
      ],
      "execution_count": 4,
      "outputs": [
        {
          "output_type": "stream",
          "text": [
            "Downloading data from https://s3.amazonaws.com/text-datasets/reuters.npz\n",
            "2113536/2110848 [==============================] - 0s 0us/step\n"
          ],
          "name": "stdout"
        }
      ]
    },
    {
      "cell_type": "code",
      "metadata": {
        "id": "Y4CpXlFyk7y_",
        "colab_type": "code",
        "colab": {
          "base_uri": "https://localhost:8080/",
          "height": 34
        },
        "outputId": "ed33c416-f09b-4128-af36-37e80b12bb8e"
      },
      "source": [
        "len(train_data)"
      ],
      "execution_count": 5,
      "outputs": [
        {
          "output_type": "execute_result",
          "data": {
            "text/plain": [
              "2246"
            ]
          },
          "metadata": {
            "tags": []
          },
          "execution_count": 5
        }
      ]
    },
    {
      "cell_type": "code",
      "metadata": {
        "id": "0T3FOIwYlOgw",
        "colab_type": "code",
        "colab": {
          "base_uri": "https://localhost:8080/",
          "height": 34
        },
        "outputId": "25a633a6-ee56-4ab7-84ea-a5a9b9e26339"
      },
      "source": [
        "len(test_data)"
      ],
      "execution_count": 6,
      "outputs": [
        {
          "output_type": "execute_result",
          "data": {
            "text/plain": [
              "8982"
            ]
          },
          "metadata": {
            "tags": []
          },
          "execution_count": 6
        }
      ]
    },
    {
      "cell_type": "code",
      "metadata": {
        "id": "ES15IwqzlQ-M",
        "colab_type": "code",
        "colab": {
          "base_uri": "https://localhost:8080/",
          "height": 1000
        },
        "outputId": "05f2c4b7-e157-4746-b06d-8b0e4ccd6204"
      },
      "source": [
        "train_data[10]"
      ],
      "execution_count": 7,
      "outputs": [
        {
          "output_type": "execute_result",
          "data": {
            "text/plain": [
              "[1,\n",
              " 361,\n",
              " 372,\n",
              " 8,\n",
              " 77,\n",
              " 62,\n",
              " 325,\n",
              " 4105,\n",
              " 336,\n",
              " 5,\n",
              " 1605,\n",
              " 37,\n",
              " 412,\n",
              " 453,\n",
              " 1187,\n",
              " 229,\n",
              " 334,\n",
              " 13,\n",
              " 4,\n",
              " 867,\n",
              " 76,\n",
              " 4,\n",
              " 76,\n",
              " 1726,\n",
              " 6,\n",
              " 264,\n",
              " 2337,\n",
              " 18,\n",
              " 82,\n",
              " 95,\n",
              " 97,\n",
              " 2220,\n",
              " 4,\n",
              " 1004,\n",
              " 649,\n",
              " 18,\n",
              " 82,\n",
              " 554,\n",
              " 136,\n",
              " 4,\n",
              " 143,\n",
              " 334,\n",
              " 290,\n",
              " 126,\n",
              " 5,\n",
              " 4,\n",
              " 2820,\n",
              " 777,\n",
              " 2,\n",
              " 1386,\n",
              " 13,\n",
              " 954,\n",
              " 7,\n",
              " 4,\n",
              " 314,\n",
              " 912,\n",
              " 224,\n",
              " 4,\n",
              " 2370,\n",
              " 1128,\n",
              " 54,\n",
              " 429,\n",
              " 2,\n",
              " 18,\n",
              " 82,\n",
              " 5,\n",
              " 496,\n",
              " 1187,\n",
              " 229,\n",
              " 57,\n",
              " 85,\n",
              " 385,\n",
              " 593,\n",
              " 6,\n",
              " 4,\n",
              " 867,\n",
              " 76,\n",
              " 17,\n",
              " 12]"
            ]
          },
          "metadata": {
            "tags": []
          },
          "execution_count": 7
        }
      ]
    },
    {
      "cell_type": "code",
      "metadata": {
        "id": "-ahm0Wjjliip",
        "colab_type": "code",
        "colab": {
          "base_uri": "https://localhost:8080/",
          "height": 54
        },
        "outputId": "75971325-074e-42a4-e98f-634c47f901b9"
      },
      "source": [
        "word_index = reuters.get_word_index()\n",
        "reserve_words_index = dict([(value,key) for key ,value in word_index.items()])\n",
        "# Note that our indices were offset by 3\n",
        "# because 0, 1 and 2 are reserved indices for \"padding\", \"start of sequence\", and \"unknown\".\n",
        "decoders = ' '.join([reserve_words_index.get(i-3,'?') for i in train_data[10]])\n",
        "decoders"
      ],
      "execution_count": 10,
      "outputs": [
        {
          "output_type": "execute_result",
          "data": {
            "text/plain": [
              "\"? grain traders said they were still awaiting results of yesterday's u k intervention feed wheat tender for the home market the market sought to buy 340 000 tonnes more than double the remaining 150 000 tonnes available under the current tender however some of the tonnage included ? bids for supplies in the same stores since the tenders started last july ? 000 tonnes of british feed wheat have been sold back to the home market reuter 3\""
            ]
          },
          "metadata": {
            "tags": []
          },
          "execution_count": 10
        }
      ]
    },
    {
      "cell_type": "code",
      "metadata": {
        "id": "0Fhana4lmVvu",
        "colab_type": "code",
        "colab": {
          "base_uri": "https://localhost:8080/",
          "height": 34
        },
        "outputId": "626eb395-ec2e-4a1e-e9c8-e64edfbe2800"
      },
      "source": [
        "train_labels[20]"
      ],
      "execution_count": 12,
      "outputs": [
        {
          "output_type": "execute_result",
          "data": {
            "text/plain": [
              "8"
            ]
          },
          "metadata": {
            "tags": []
          },
          "execution_count": 12
        }
      ]
    },
    {
      "cell_type": "code",
      "metadata": {
        "id": "ke96CPDYmlSs",
        "colab_type": "code",
        "colab": {}
      },
      "source": [
        "# vectorizing our data\n",
        "\n",
        "def vectorize_sequences(sequences, dimension=10000):\n",
        "    results = np.zeros((len(sequences), dimension))\n",
        "    for i, sequence in enumerate(sequences):\n",
        "        results[i, sequence] = 1.\n",
        "    return results\n",
        "\n",
        "# Our vectorized training data\n",
        "x_train = vectorize_sequences(train_data)\n",
        "# Our vectorized test data\n",
        "x_test = vectorize_sequences(test_data)"
      ],
      "execution_count": 0,
      "outputs": []
    },
    {
      "cell_type": "code",
      "metadata": {
        "id": "EmtRkc4EoMKB",
        "colab_type": "code",
        "colab": {}
      },
      "source": [
        "# vectorizing our labels using one hot encode\n",
        "\n",
        "one_hot_train_labels = to_categorical(train_labels)\n",
        "one_hot_test_labels = to_categorical(test_labels)"
      ],
      "execution_count": 0,
      "outputs": []
    },
    {
      "cell_type": "code",
      "metadata": {
        "id": "uuZtyeKHoqYO",
        "colab_type": "code",
        "colab": {}
      },
      "source": [
        "model = models.Sequential()\n",
        "model.add(layers.Dense(64, activation='relu', input_shape=(10000,)))\n",
        "model.add(layers.Dense(64, activation='relu'))\n",
        "model.add(layers.Dense(46, activation='softmax'))"
      ],
      "execution_count": 0,
      "outputs": []
    },
    {
      "cell_type": "code",
      "metadata": {
        "id": "BoNhkyOdpRuF",
        "colab_type": "code",
        "colab": {}
      },
      "source": [
        "model.compile(optimizer='rmsprop',\n",
        "              loss='categorical_crossentropy',\n",
        "              metrics=['accuracy'])"
      ],
      "execution_count": 0,
      "outputs": []
    },
    {
      "cell_type": "code",
      "metadata": {
        "id": "XZXa9jf4p1hw",
        "colab_type": "code",
        "colab": {}
      },
      "source": [
        "x_val = x_train[:1000]\n",
        "partial_x_train = x_train[1000:]\n",
        "\n",
        "y_val = one_hot_train_labels[:1000]\n",
        "partial_y_train = one_hot_train_labels[1000:]"
      ],
      "execution_count": 0,
      "outputs": []
    },
    {
      "cell_type": "code",
      "metadata": {
        "id": "idJg9A-Lp_Qo",
        "colab_type": "code",
        "colab": {
          "base_uri": "https://localhost:8080/",
          "height": 1000
        },
        "outputId": "9b238844-91f7-4ebd-9329-e95cc300a879"
      },
      "source": [
        "history = model.fit(partial_x_train,\n",
        "                    partial_y_train,\n",
        "                    epochs=20,\n",
        "                    batch_size=512,\n",
        "                    validation_data=(x_val, y_val))"
      ],
      "execution_count": 22,
      "outputs": [
        {
          "output_type": "stream",
          "text": [
            "WARNING:tensorflow:From /usr/local/lib/python3.6/dist-packages/tensorflow_core/python/ops/math_grad.py:1424: where (from tensorflow.python.ops.array_ops) is deprecated and will be removed in a future version.\n",
            "Instructions for updating:\n",
            "Use tf.where in 2.0, which has the same broadcast rule as np.where\n",
            "WARNING:tensorflow:From /usr/local/lib/python3.6/dist-packages/keras/backend/tensorflow_backend.py:1033: The name tf.assign_add is deprecated. Please use tf.compat.v1.assign_add instead.\n",
            "\n",
            "WARNING:tensorflow:From /usr/local/lib/python3.6/dist-packages/keras/backend/tensorflow_backend.py:1020: The name tf.assign is deprecated. Please use tf.compat.v1.assign instead.\n",
            "\n",
            "WARNING:tensorflow:From /usr/local/lib/python3.6/dist-packages/keras/backend/tensorflow_backend.py:3005: The name tf.Session is deprecated. Please use tf.compat.v1.Session instead.\n",
            "\n",
            "Train on 1246 samples, validate on 1000 samples\n",
            "Epoch 1/20\n",
            "WARNING:tensorflow:From /usr/local/lib/python3.6/dist-packages/keras/backend/tensorflow_backend.py:190: The name tf.get_default_session is deprecated. Please use tf.compat.v1.get_default_session instead.\n",
            "\n",
            "WARNING:tensorflow:From /usr/local/lib/python3.6/dist-packages/keras/backend/tensorflow_backend.py:197: The name tf.ConfigProto is deprecated. Please use tf.compat.v1.ConfigProto instead.\n",
            "\n",
            "WARNING:tensorflow:From /usr/local/lib/python3.6/dist-packages/keras/backend/tensorflow_backend.py:207: The name tf.global_variables is deprecated. Please use tf.compat.v1.global_variables instead.\n",
            "\n",
            "WARNING:tensorflow:From /usr/local/lib/python3.6/dist-packages/keras/backend/tensorflow_backend.py:216: The name tf.is_variable_initialized is deprecated. Please use tf.compat.v1.is_variable_initialized instead.\n",
            "\n",
            "WARNING:tensorflow:From /usr/local/lib/python3.6/dist-packages/keras/backend/tensorflow_backend.py:223: The name tf.variables_initializer is deprecated. Please use tf.compat.v1.variables_initializer instead.\n",
            "\n",
            "1246/1246 [==============================] - 1s 814us/step - loss: 3.7128 - acc: 0.2424 - val_loss: 3.2802 - val_acc: 0.4590\n",
            "Epoch 2/20\n",
            "1246/1246 [==============================] - 0s 211us/step - loss: 3.0230 - acc: 0.4864 - val_loss: 2.7414 - val_acc: 0.4980\n",
            "Epoch 3/20\n",
            "1246/1246 [==============================] - 0s 212us/step - loss: 2.3862 - acc: 0.5827 - val_loss: 2.3541 - val_acc: 0.5430\n",
            "Epoch 4/20\n",
            "1246/1246 [==============================] - 0s 206us/step - loss: 1.9152 - acc: 0.6493 - val_loss: 2.0732 - val_acc: 0.6340\n",
            "Epoch 5/20\n",
            "1246/1246 [==============================] - 0s 209us/step - loss: 1.5832 - acc: 0.7055 - val_loss: 1.9133 - val_acc: 0.6200\n",
            "Epoch 6/20\n",
            "1246/1246 [==============================] - 0s 216us/step - loss: 1.3388 - acc: 0.7360 - val_loss: 1.7935 - val_acc: 0.6280\n",
            "Epoch 7/20\n",
            "1246/1246 [==============================] - 0s 209us/step - loss: 1.1538 - acc: 0.7657 - val_loss: 1.6668 - val_acc: 0.6750\n",
            "Epoch 8/20\n",
            "1246/1246 [==============================] - 0s 211us/step - loss: 1.0008 - acc: 0.8074 - val_loss: 1.6002 - val_acc: 0.6640\n",
            "Epoch 9/20\n",
            "1246/1246 [==============================] - 0s 214us/step - loss: 0.8779 - acc: 0.8371 - val_loss: 1.5367 - val_acc: 0.6870\n",
            "Epoch 10/20\n",
            "1246/1246 [==============================] - 0s 209us/step - loss: 0.7660 - acc: 0.8660 - val_loss: 1.4901 - val_acc: 0.6940\n",
            "Epoch 11/20\n",
            "1246/1246 [==============================] - 0s 214us/step - loss: 0.6739 - acc: 0.8860 - val_loss: 1.4558 - val_acc: 0.6990\n",
            "Epoch 12/20\n",
            "1246/1246 [==============================] - 0s 213us/step - loss: 0.5894 - acc: 0.9093 - val_loss: 1.4302 - val_acc: 0.7010\n",
            "Epoch 13/20\n",
            "1246/1246 [==============================] - 0s 210us/step - loss: 0.5145 - acc: 0.9262 - val_loss: 1.4013 - val_acc: 0.7050\n",
            "Epoch 14/20\n",
            "1246/1246 [==============================] - 0s 208us/step - loss: 0.4501 - acc: 0.9358 - val_loss: 1.3791 - val_acc: 0.7150\n",
            "Epoch 15/20\n",
            "1246/1246 [==============================] - 0s 209us/step - loss: 0.3956 - acc: 0.9414 - val_loss: 1.3652 - val_acc: 0.7090\n",
            "Epoch 16/20\n",
            "1246/1246 [==============================] - 0s 212us/step - loss: 0.3458 - acc: 0.9535 - val_loss: 1.3297 - val_acc: 0.7220\n",
            "Epoch 17/20\n",
            "1246/1246 [==============================] - 0s 209us/step - loss: 0.3025 - acc: 0.9647 - val_loss: 1.3210 - val_acc: 0.7150\n",
            "Epoch 18/20\n",
            "1246/1246 [==============================] - 0s 209us/step - loss: 0.2665 - acc: 0.9679 - val_loss: 1.3497 - val_acc: 0.7090\n",
            "Epoch 19/20\n",
            "1246/1246 [==============================] - 0s 212us/step - loss: 0.2384 - acc: 0.9735 - val_loss: 1.3237 - val_acc: 0.7170\n",
            "Epoch 20/20\n",
            "1246/1246 [==============================] - 0s 207us/step - loss: 0.2073 - acc: 0.9759 - val_loss: 1.3874 - val_acc: 0.7000\n"
          ],
          "name": "stdout"
        }
      ]
    },
    {
      "cell_type": "code",
      "metadata": {
        "id": "Im9zvdmzqC5k",
        "colab_type": "code",
        "colab": {
          "base_uri": "https://localhost:8080/",
          "height": 295
        },
        "outputId": "b5b603e4-2a37-48b6-a5d4-3151dfec5c6d"
      },
      "source": [
        "loss = history.history['loss']\n",
        "val_loss = history.history['val_loss']\n",
        "\n",
        "epochs = range(1, len(loss) + 1)\n",
        "\n",
        "plt.plot(epochs, loss, 'bo', label='Training loss')\n",
        "plt.plot(epochs, val_loss, 'b', label='Validation loss')\n",
        "plt.title('Training and validation loss')\n",
        "plt.xlabel('Epochs')\n",
        "plt.ylabel('Loss')\n",
        "plt.legend()\n",
        "\n",
        "plt.show()"
      ],
      "execution_count": 25,
      "outputs": [
        {
          "output_type": "display_data",
          "data": {
            "image/png": "[encoded data removed]",
            "text/plain": [
              "<Figure size 432x288 with 1 Axes>"
            ]
          },
          "metadata": {
            "tags": []
          }
        }
      ]
    },
    {
      "cell_type": "code",
      "metadata": {
        "id": "TkBooHo8qMx7",
        "colab_type": "code",
        "colab": {
          "base_uri": "https://localhost:8080/",
          "height": 295
        },
        "outputId": "829a7b10-9fa1-42e4-8a45-51fd695944f2"
      },
      "source": [
        "plt.clf()   # clear figure\n",
        "\n",
        "acc = history.history['acc']\n",
        "val_acc = history.history['val_acc']\n",
        "\n",
        "plt.plot(epochs, acc, 'bo', label='Training acc')\n",
        "plt.plot(epochs, val_acc, 'b', label='Validation acc')\n",
        "plt.title('Training and validation accuracy')\n",
        "plt.xlabel('Epochs')\n",
        "plt.ylabel('Loss')\n",
        "plt.legend()\n",
        "\n",
        "plt.show()"
      ],
      "execution_count": 26,
      "outputs": [
        {
          "output_type": "display_data",
          "data": {
            "image/png": "[encoded data removed]",
            "text/plain": [
              "<Figure size 432x288 with 1 Axes>"
            ]
          },
          "metadata": {
            "tags": []
          }
        }
      ]
    },
    {
      "cell_type": "code",
      "metadata": {
        "id": "A9FckZrJqZ-N",
        "colab_type": "code",
        "colab": {
          "base_uri": "https://localhost:8080/",
          "height": 595
        },
        "outputId": "20314573-ac4c-48e1-e07c-58b1b714b62d"
      },
      "source": [
        "#it seems that the network starts overfitting after 16 epochs.\n",
        "#Let's train a new network from scratch for 8 epochs, then let's evaluate it on the test\n",
        "\n",
        "model = models.Sequential()\n",
        "model.add(layers.Dense(64, activation='relu', input_shape=(10000,)))\n",
        "model.add(layers.Dense(64, activation='relu'))\n",
        "model.add(layers.Dense(46, activation='softmax'))\n",
        "\n",
        "model.compile(optimizer='rmsprop',\n",
        "              loss='categorical_crossentropy',\n",
        "              metrics=['accuracy'])\n",
        "model.fit(partial_x_train,\n",
        "          partial_y_train,\n",
        "          epochs=16,\n",
        "          batch_size=512,\n",
        "          validation_data=(x_val, y_val))\n",
        "results = model.evaluate(x_test, one_hot_test_labels)"
      ],
      "execution_count": 27,
      "outputs": [
        {
          "output_type": "stream",
          "text": [
            "Train on 1246 samples, validate on 1000 samples\n",
            "Epoch 1/16\n",
            "1246/1246 [==============================] - 1s 404us/step - loss: 3.6931 - acc: 0.2729 - val_loss: 3.2116 - val_acc: 0.5240\n",
            "Epoch 2/16\n",
            "1246/1246 [==============================] - 0s 213us/step - loss: 2.9358 - acc: 0.5498 - val_loss: 2.6421 - val_acc: 0.5330\n",
            "Epoch 3/16\n",
            "1246/1246 [==============================] - 0s 230us/step - loss: 2.2811 - acc: 0.5778 - val_loss: 2.2632 - val_acc: 0.5560\n",
            "Epoch 4/16\n",
            "1246/1246 [==============================] - 0s 210us/step - loss: 1.8354 - acc: 0.6437 - val_loss: 2.0118 - val_acc: 0.5740\n",
            "Epoch 5/16\n",
            "1246/1246 [==============================] - 0s 202us/step - loss: 1.5190 - acc: 0.6830 - val_loss: 1.8460 - val_acc: 0.5950\n",
            "Epoch 6/16\n",
            "1246/1246 [==============================] - 0s 206us/step - loss: 1.2876 - acc: 0.7303 - val_loss: 1.7203 - val_acc: 0.6170\n",
            "Epoch 7/16\n",
            "1246/1246 [==============================] - 0s 202us/step - loss: 1.1118 - acc: 0.7705 - val_loss: 1.6302 - val_acc: 0.6370\n",
            "Epoch 8/16\n",
            "1246/1246 [==============================] - 0s 206us/step - loss: 0.9644 - acc: 0.8010 - val_loss: 1.5518 - val_acc: 0.6520\n",
            "Epoch 9/16\n",
            "1246/1246 [==============================] - 0s 214us/step - loss: 0.8442 - acc: 0.8323 - val_loss: 1.5138 - val_acc: 0.6580\n",
            "Epoch 10/16\n",
            "1246/1246 [==============================] - 0s 213us/step - loss: 0.7469 - acc: 0.8604 - val_loss: 1.4658 - val_acc: 0.6580\n",
            "Epoch 11/16\n",
            "1246/1246 [==============================] - 0s 215us/step - loss: 0.6593 - acc: 0.8764 - val_loss: 1.4189 - val_acc: 0.6800\n",
            "Epoch 12/16\n",
            "1246/1246 [==============================] - 0s 207us/step - loss: 0.5782 - acc: 0.8997 - val_loss: 1.3926 - val_acc: 0.6850\n",
            "Epoch 13/16\n",
            "1246/1246 [==============================] - 0s 205us/step - loss: 0.5117 - acc: 0.9181 - val_loss: 1.3662 - val_acc: 0.6890\n",
            "Epoch 14/16\n",
            "1246/1246 [==============================] - 0s 207us/step - loss: 0.4529 - acc: 0.9310 - val_loss: 1.3443 - val_acc: 0.6960\n",
            "Epoch 15/16\n",
            "1246/1246 [==============================] - 0s 207us/step - loss: 0.3989 - acc: 0.9462 - val_loss: 1.3376 - val_acc: 0.6980\n",
            "Epoch 16/16\n",
            "1246/1246 [==============================] - 0s 206us/step - loss: 0.3528 - acc: 0.9502 - val_loss: 1.2905 - val_acc: 0.7210\n",
            "8982/8982 [==============================] - 1s 122us/step\n"
          ],
          "name": "stdout"
        }
      ]
    },
    {
      "cell_type": "code",
      "metadata": {
        "id": "3icXvE9HqzCI",
        "colab_type": "code",
        "colab": {
          "base_uri": "https://localhost:8080/",
          "height": 34
        },
        "outputId": "541aa651-0a39-4b8b-edc3-0e636ffe7103"
      },
      "source": [
        "results"
      ],
      "execution_count": 28,
      "outputs": [
        {
          "output_type": "execute_result",
          "data": {
            "text/plain": [
              "[1.3171999623583834, 0.7150968604405297]"
            ]
          },
          "metadata": {
            "tags": []
          },
          "execution_count": 28
        }
      ]
    },
    {
      "cell_type": "code",
      "metadata": {
        "id": "FkRaJMYaq7f-",
        "colab_type": "code",
        "colab": {}
      },
      "source": [
        "prediction = model.predict(x_test)"
      ],
      "execution_count": 0,
      "outputs": []
    },
    {
      "cell_type": "code",
      "metadata": {
        "id": "iVZ_MGChrWZX",
        "colab_type": "code",
        "colab": {
          "base_uri": "https://localhost:8080/",
          "height": 34
        },
        "outputId": "594940c1-4a6e-4a37-dffc-131a2e36ed9a"
      },
      "source": [
        "prediction[0].shape"
      ],
      "execution_count": 30,
      "outputs": [
        {
          "output_type": "execute_result",
          "data": {
            "text/plain": [
              "(46,)"
            ]
          },
          "metadata": {
            "tags": []
          },
          "execution_count": 30
        }
      ]
    },
    {
      "cell_type": "code",
      "metadata": {
        "id": "U3fWS0MdrcEs",
        "colab_type": "code",
        "colab": {
          "base_uri": "https://localhost:8080/",
          "height": 595
        },
        "outputId": "253adcfc-1bf5-416f-822a-5791fa42007b"
      },
      "source": [
        "# trying with different layers\n",
        "\n",
        "model = models.Sequential()\n",
        "model.add(layers.Dense(64, activation='relu', input_shape=(10000,)))\n",
        "model.add(layers.Dense(64, activation='relu'))\n",
        "model.add(layers.Dense(64, activation='relu'))\n",
        "model.add(layers.Dense(46, activation='softmax'))\n",
        "\n",
        "model.compile(optimizer='rmsprop',\n",
        "              loss='categorical_crossentropy',\n",
        "              metrics=['accuracy'])\n",
        "model.fit(partial_x_train,\n",
        "          partial_y_train,\n",
        "          epochs=16,\n",
        "          batch_size=512,\n",
        "          validation_data=(x_val, y_val))\n",
        "results = model.evaluate(x_test, one_hot_test_labels)"
      ],
      "execution_count": 32,
      "outputs": [
        {
          "output_type": "stream",
          "text": [
            "Train on 1246 samples, validate on 1000 samples\n",
            "Epoch 1/16\n",
            "1246/1246 [==============================] - 1s 537us/step - loss: 3.7545 - acc: 0.1188 - val_loss: 3.3798 - val_acc: 0.5600\n",
            "Epoch 2/16\n",
            "1246/1246 [==============================] - 0s 209us/step - loss: 3.1288 - acc: 0.5642 - val_loss: 2.7044 - val_acc: 0.5420\n",
            "Epoch 3/16\n",
            "1246/1246 [==============================] - 0s 210us/step - loss: 2.3771 - acc: 0.5690 - val_loss: 2.2754 - val_acc: 0.5220\n",
            "Epoch 4/16\n",
            "1246/1246 [==============================] - 0s 212us/step - loss: 1.8822 - acc: 0.5891 - val_loss: 2.0446 - val_acc: 0.5740\n",
            "Epoch 5/16\n",
            "1246/1246 [==============================] - 0s 226us/step - loss: 1.5863 - acc: 0.6396 - val_loss: 1.8142 - val_acc: 0.6080\n",
            "Epoch 6/16\n",
            "1246/1246 [==============================] - 0s 213us/step - loss: 1.3317 - acc: 0.6942 - val_loss: 1.7030 - val_acc: 0.6390\n",
            "Epoch 7/16\n",
            "1246/1246 [==============================] - 0s 221us/step - loss: 1.1632 - acc: 0.7311 - val_loss: 1.6230 - val_acc: 0.6380\n",
            "Epoch 8/16\n",
            "1246/1246 [==============================] - 0s 215us/step - loss: 1.0199 - acc: 0.7705 - val_loss: 1.5685 - val_acc: 0.6630\n",
            "Epoch 9/16\n",
            "1246/1246 [==============================] - 0s 213us/step - loss: 0.9019 - acc: 0.8018 - val_loss: 1.5271 - val_acc: 0.6590\n",
            "Epoch 10/16\n",
            "1246/1246 [==============================] - 0s 210us/step - loss: 0.8063 - acc: 0.8371 - val_loss: 1.6274 - val_acc: 0.6410\n",
            "Epoch 11/16\n",
            "1246/1246 [==============================] - 0s 218us/step - loss: 0.7522 - acc: 0.8387 - val_loss: 1.4688 - val_acc: 0.6780\n",
            "Epoch 12/16\n",
            "1246/1246 [==============================] - 0s 211us/step - loss: 0.6158 - acc: 0.8844 - val_loss: 1.4443 - val_acc: 0.6830\n",
            "Epoch 13/16\n",
            "1246/1246 [==============================] - 0s 213us/step - loss: 0.5382 - acc: 0.9069 - val_loss: 1.4150 - val_acc: 0.6950\n",
            "Epoch 14/16\n",
            "1246/1246 [==============================] - 0s 213us/step - loss: 0.4703 - acc: 0.9157 - val_loss: 1.4173 - val_acc: 0.7010\n",
            "Epoch 15/16\n",
            "1246/1246 [==============================] - 0s 216us/step - loss: 0.4121 - acc: 0.9278 - val_loss: 1.4216 - val_acc: 0.6850\n",
            "Epoch 16/16\n",
            "1246/1246 [==============================] - 0s 215us/step - loss: 0.3646 - acc: 0.9422 - val_loss: 1.3942 - val_acc: 0.6970\n",
            "8982/8982 [==============================] - 1s 124us/step\n"
          ],
          "name": "stdout"
        }
      ]
    },
    {
      "cell_type": "code",
      "metadata": {
        "id": "NTyRycf4sHIM",
        "colab_type": "code",
        "colab": {
          "base_uri": "https://localhost:8080/",
          "height": 595
        },
        "outputId": "15bfd239-12cd-460d-973d-181b52f0f507"
      },
      "source": [
        "# trying with different layers\n",
        "\n",
        "model = models.Sequential()\n",
        "model.add(layers.Dense(64, activation='relu', input_shape=(10000,)))\n",
        "model.add(layers.Dense(46, activation='softmax'))\n",
        "\n",
        "model.compile(optimizer='rmsprop',\n",
        "              loss='categorical_crossentropy',\n",
        "              metrics=['accuracy'])\n",
        "model.fit(partial_x_train,\n",
        "          partial_y_train,\n",
        "          epochs=16,\n",
        "          batch_size=512,\n",
        "          validation_data=(x_val, y_val))\n",
        "results = model.evaluate(x_test, one_hot_test_labels)"
      ],
      "execution_count": 36,
      "outputs": [
        {
          "output_type": "stream",
          "text": [
            "Train on 1246 samples, validate on 1000 samples\n",
            "Epoch 1/16\n",
            "1246/1246 [==============================] - 1s 588us/step - loss: 3.6124 - acc: 0.3122 - val_loss: 3.0455 - val_acc: 0.5390\n",
            "Epoch 2/16\n",
            "1246/1246 [==============================] - 0s 223us/step - loss: 2.7348 - acc: 0.6100 - val_loss: 2.5821 - val_acc: 0.5930\n",
            "Epoch 3/16\n",
            "1246/1246 [==============================] - 0s 223us/step - loss: 2.1683 - acc: 0.6790 - val_loss: 2.2729 - val_acc: 0.6260\n",
            "Epoch 4/16\n",
            "1246/1246 [==============================] - 0s 222us/step - loss: 1.7845 - acc: 0.7175 - val_loss: 2.0585 - val_acc: 0.6570\n",
            "Epoch 5/16\n",
            "1246/1246 [==============================] - 0s 222us/step - loss: 1.5087 - acc: 0.7616 - val_loss: 1.9086 - val_acc: 0.6490\n",
            "Epoch 6/16\n",
            "1246/1246 [==============================] - 0s 222us/step - loss: 1.2966 - acc: 0.7849 - val_loss: 1.7994 - val_acc: 0.6530\n",
            "Epoch 7/16\n",
            "1246/1246 [==============================] - 0s 215us/step - loss: 1.1257 - acc: 0.8250 - val_loss: 1.7047 - val_acc: 0.6750\n",
            "Epoch 8/16\n",
            "1246/1246 [==============================] - 0s 234us/step - loss: 0.9843 - acc: 0.8491 - val_loss: 1.6281 - val_acc: 0.6800\n",
            "Epoch 9/16\n",
            "1246/1246 [==============================] - 0s 229us/step - loss: 0.8666 - acc: 0.8772 - val_loss: 1.5625 - val_acc: 0.6910\n",
            "Epoch 10/16\n",
            "1246/1246 [==============================] - 0s 216us/step - loss: 0.7629 - acc: 0.8957 - val_loss: 1.5183 - val_acc: 0.6880\n",
            "Epoch 11/16\n",
            "1246/1246 [==============================] - 0s 215us/step - loss: 0.6771 - acc: 0.9021 - val_loss: 1.4671 - val_acc: 0.7040\n",
            "Epoch 12/16\n",
            "1246/1246 [==============================] - 0s 225us/step - loss: 0.6035 - acc: 0.9181 - val_loss: 1.4276 - val_acc: 0.7040\n",
            "Epoch 13/16\n",
            "1246/1246 [==============================] - 0s 218us/step - loss: 0.5347 - acc: 0.9326 - val_loss: 1.4025 - val_acc: 0.7010\n",
            "Epoch 14/16\n",
            "1246/1246 [==============================] - 0s 215us/step - loss: 0.4765 - acc: 0.9374 - val_loss: 1.3686 - val_acc: 0.7130\n",
            "Epoch 15/16\n",
            "1246/1246 [==============================] - 0s 223us/step - loss: 0.4284 - acc: 0.9486 - val_loss: 1.3440 - val_acc: 0.7180\n",
            "Epoch 16/16\n",
            "1246/1246 [==============================] - 0s 221us/step - loss: 0.3818 - acc: 0.9510 - val_loss: 1.3255 - val_acc: 0.7180\n",
            "8982/8982 [==============================] - 1s 131us/step\n"
          ],
          "name": "stdout"
        }
      ]
    },
    {
      "cell_type": "code",
      "metadata": {
        "id": "yHiOXOXCsS6y",
        "colab_type": "code",
        "colab": {}
      },
      "source": [
        ""
      ],
      "execution_count": 0,
      "outputs": []
    }
  ]
}